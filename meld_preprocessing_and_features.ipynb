{
 "cells": [
  {
   "cell_type": "code",
   "execution_count": 1,
   "metadata": {},
   "outputs": [
    {
     "name": "stdout",
     "output_type": "stream",
     "text": [
      "Setup complete. Ready to preprocess the data!\n"
     ]
    },
    {
     "name": "stderr",
     "output_type": "stream",
     "text": [
      "[nltk_data] Downloading package punkt to\n",
      "[nltk_data]     C:\\Users\\rajt8\\AppData\\Roaming\\nltk_data...\n",
      "[nltk_data]   Package punkt is already up-to-date!\n",
      "[nltk_data] Downloading package stopwords to\n",
      "[nltk_data]     C:\\Users\\rajt8\\AppData\\Roaming\\nltk_data...\n",
      "[nltk_data]   Package stopwords is already up-to-date!\n",
      "[nltk_data] Downloading package wordnet to\n",
      "[nltk_data]     C:\\Users\\rajt8\\AppData\\Roaming\\nltk_data...\n",
      "[nltk_data]   Package wordnet is already up-to-date!\n",
      "[nltk_data] Downloading package averaged_perceptron_tagger to\n",
      "[nltk_data]     C:\\Users\\rajt8\\AppData\\Roaming\\nltk_data...\n",
      "[nltk_data]   Package averaged_perceptron_tagger is already up-to-\n",
      "[nltk_data]       date!\n"
     ]
    }
   ],
   "source": [
    "# Essential Libraries\n",
    "import pandas as pd\n",
    "import numpy as np\n",
    "import os\n",
    "import librosa\n",
    "import nltk\n",
    "from sklearn.model_selection import train_test_split\n",
    "\n",
    "# Visualization Libraries\n",
    "import matplotlib.pyplot as plt\n",
    "import seaborn as sns\n",
    "\n",
    "# Initialize NLTK resources\n",
    "nltk.download('punkt')\n",
    "nltk.download('stopwords')\n",
    "nltk.download('wordnet')\n",
    "nltk.download('averaged_perceptron_tagger')\n",
    "\n",
    "print(\"Setup complete. Ready to preprocess the data!\")"
   ]
  },
  {
   "cell_type": "code",
   "execution_count": 2,
   "metadata": {},
   "outputs": [
    {
     "name": "stdout",
     "output_type": "stream",
     "text": [
      "Dataset loaded successfully!\n",
      "<class 'pandas.core.frame.DataFrame'>\n",
      "RangeIndex: 13708 entries, 0 to 13707\n",
      "Data columns (total 11 columns):\n",
      " #   Column        Non-Null Count  Dtype \n",
      "---  ------        --------------  ----- \n",
      " 0   Sr No.        13708 non-null  int64 \n",
      " 1   Utterance     13708 non-null  object\n",
      " 2   Speaker       13708 non-null  object\n",
      " 3   Emotion       13708 non-null  object\n",
      " 4   Sentiment     13708 non-null  object\n",
      " 5   Dialogue_ID   13708 non-null  int64 \n",
      " 6   Utterance_ID  13708 non-null  int64 \n",
      " 7   Season        13708 non-null  int64 \n",
      " 8   Episode       13708 non-null  int64 \n",
      " 9   StartTime     13708 non-null  object\n",
      " 10  EndTime       13708 non-null  object\n",
      "dtypes: int64(5), object(6)\n",
      "memory usage: 1.2+ MB\n",
      "None\n"
     ]
    }
   ],
   "source": [
    "# Paths to MELD dataset\n",
    "meld_train_path = r'datasets\\raw\\MELD\\train\\train_sent_emo.csv'\n",
    "meld_dev_path = r'datasets\\raw\\MELD\\dev_sent_emo.csv'\n",
    "meld_test_path = r'datasets\\raw\\MELD\\test_sent_emo.csv'\n",
    "\n",
    "# Load datasets\n",
    "train_df = pd.read_csv(meld_train_path)\n",
    "dev_df = pd.read_csv(meld_dev_path)\n",
    "test_df = pd.read_csv(meld_test_path)\n",
    "\n",
    "# Combine datasets for preprocessing\n",
    "meld_data = pd.concat([train_df, dev_df, test_df], ignore_index=True)\n",
    "\n",
    "# Display basic info\n",
    "print(\"Dataset loaded successfully!\")\n",
    "print(meld_data.info())\n"
   ]
  },
  {
   "cell_type": "code",
   "execution_count": 3,
   "metadata": {},
   "outputs": [
    {
     "name": "stdout",
     "output_type": "stream",
     "text": [
      "\n",
      "Sample Processed Utterances:\n",
      "                                           Utterance  \\\n",
      "0  also I was the point person on my companys tr...   \n",
      "1                   You mustve had your hands full.   \n",
      "2                            That I did. That I did.   \n",
      "3      So lets talk a little bit about your duties.   \n",
      "4                             My duties?  All right.   \n",
      "\n",
      "                                     Clean_Utterance  \n",
      "0  also point person companys transition kl-5 gr...  \n",
      "1                                 mustve hands full  \n",
      "2                                                     \n",
      "3                       lets talk little bit duties  \n",
      "4                                       duties right  \n"
     ]
    }
   ],
   "source": [
    "from nltk.corpus import stopwords\n",
    "from nltk.tokenize import word_tokenize\n",
    "import string\n",
    "\n",
    "# Initialize stopwords and punctuation\n",
    "stop_words = set(stopwords.words('english'))\n",
    "punctuation = set(string.punctuation)\n",
    "\n",
    "# Text preprocessing function\n",
    "def preprocess_text(text):\n",
    "    # Tokenize and lowercase\n",
    "    tokens = word_tokenize(text.lower())\n",
    "    # Remove stopwords and punctuation\n",
    "    tokens = [word for word in tokens if word not in stop_words and word not in punctuation]\n",
    "    return ' '.join(tokens)\n",
    "\n",
    "# Apply preprocessing to the utterances\n",
    "meld_data['Clean_Utterance'] = meld_data['Utterance'].apply(preprocess_text)\n",
    "\n",
    "# Display sample processed text\n",
    "print(\"\\nSample Processed Utterances:\")\n",
    "print(meld_data[['Utterance', 'Clean_Utterance']].head())"
   ]
  },
  {
   "cell_type": "code",
   "execution_count": 4,
   "metadata": {},
   "outputs": [
    {
     "name": "stdout",
     "output_type": "stream",
     "text": [
      "\n",
      "Updated Sample Processed Utterances:\n",
      "                                           Utterance  \\\n",
      "0  also I was the point person on my companys tr...   \n",
      "1                   You mustve had your hands full.   \n",
      "3      So lets talk a little bit about your duties.   \n",
      "4                             My duties?  All right.   \n",
      "5  Now youll be heading a whole division, so you...   \n",
      "\n",
      "                                     Clean_Utterance  \n",
      "0  also point person company 's transition kl-5 g...  \n",
      "1                                must 've hands full  \n",
      "3                      let 's talk little bit duties  \n",
      "4                                       duties right  \n",
      "5          'll heading whole division 'll lot duties  \n"
     ]
    }
   ],
   "source": [
    "# Enhanced text preprocessing function\n",
    "def preprocess_text_v2(text):\n",
    "    # Replace encoding artifacts\n",
    "    text = text.replace(\"\", \"'\")  # Normalize apostrophes\n",
    "    # Tokenize and lowercase\n",
    "    tokens = word_tokenize(text.lower())\n",
    "    # Remove stopwords and punctuation\n",
    "    tokens = [word for word in tokens if word not in stop_words and word not in punctuation]\n",
    "    return ' '.join(tokens)\n",
    "\n",
    "# Apply refined preprocessing\n",
    "meld_data['Clean_Utterance'] = meld_data['Utterance'].apply(preprocess_text_v2)\n",
    "\n",
    "# Drop rows where Clean_Utterance is empty\n",
    "meld_data = meld_data[meld_data['Clean_Utterance'] != '']\n",
    "\n",
    "# Display updated samples\n",
    "print(\"\\nUpdated Sample Processed Utterances:\")\n",
    "print(meld_data[['Utterance', 'Clean_Utterance']].head())"
   ]
  },
  {
   "cell_type": "code",
   "execution_count": 5,
   "metadata": {},
   "outputs": [
    {
     "name": "stdout",
     "output_type": "stream",
     "text": [
      "\n",
      "Sample Features Extracted from Text:\n",
      "                                     Clean_Utterance  Word_Count  Char_Count  \\\n",
      "0  also point person company 's transition kl-5 g...           9          56   \n",
      "1                                must 've hands full           4          19   \n",
      "3                      let 's talk little bit duties           6          29   \n",
      "4                                       duties right           2          12   \n",
      "5          'll heading whole division 'll lot duties           7          41   \n",
      "\n",
      "   Sentiment_Polarity  \n",
      "0                 0.0  \n",
      "1                 0.0  \n",
      "3                 0.0  \n",
      "4                 0.0  \n",
      "5                 0.0  \n"
     ]
    }
   ],
   "source": [
    "from vaderSentiment.vaderSentiment import SentimentIntensityAnalyzer\n",
    "\n",
    "# Initialize sentiment analyzer\n",
    "analyzer = SentimentIntensityAnalyzer()\n",
    "\n",
    "# Extract features\n",
    "meld_data['Word_Count'] = meld_data['Clean_Utterance'].apply(lambda x: len(x.split()))\n",
    "meld_data['Char_Count'] = meld_data['Clean_Utterance'].apply(len)\n",
    "meld_data['Sentiment_Polarity'] = meld_data['Clean_Utterance'].apply(lambda x: analyzer.polarity_scores(x)['compound'])\n",
    "\n",
    "# Display sample features\n",
    "print(\"\\nSample Features Extracted from Text:\")\n",
    "print(meld_data[['Clean_Utterance', 'Word_Count', 'Char_Count', 'Sentiment_Polarity']].head())"
   ]
  },
  {
   "cell_type": "code",
   "execution_count": 6,
   "metadata": {},
   "outputs": [
    {
     "name": "stdout",
     "output_type": "stream",
     "text": [
      "\n",
      "Updated Sentiment Polarity:\n",
      "                                           Utterance  Sentiment_Polarity\n",
      "0  also I was the point person on my companys tr...                 0.0\n",
      "1                   You mustve had your hands full.                 0.0\n",
      "3      So lets talk a little bit about your duties.                 0.0\n",
      "4                             My duties?  All right.                 0.0\n",
      "5  Now youll be heading a whole division, so you...                 0.0\n"
     ]
    }
   ],
   "source": [
    "# Calculate sentiment polarity from the original utterance\n",
    "meld_data['Sentiment_Polarity'] = meld_data['Utterance'].apply(lambda x: analyzer.polarity_scores(x)['compound'])\n",
    "\n",
    "# Display updated sample features\n",
    "print(\"\\nUpdated Sentiment Polarity:\")\n",
    "print(meld_data[['Utterance', 'Sentiment_Polarity']].head())"
   ]
  },
  {
   "cell_type": "code",
   "execution_count": 7,
   "metadata": {},
   "outputs": [
    {
     "data": {
      "image/png": "[encoded data removed]",
      "text/plain": [
       "<Figure size 1000x600 with 1 Axes>"
      ]
     },
     "metadata": {},
     "output_type": "display_data"
    }
   ],
   "source": [
    "# Plot sentiment polarity distribution\n",
    "plt.figure(figsize=(10, 6))\n",
    "sns.histplot(meld_data['Sentiment_Polarity'], bins=20, kde=True, color='blue')\n",
    "plt.title('Sentiment Polarity Distribution', fontsize=16)\n",
    "plt.xlabel('Sentiment Polarity', fontsize=14)\n",
    "plt.ylabel('Frequency', fontsize=14)\n",
    "plt.show()"
   ]
  },
  {
   "cell_type": "code",
   "execution_count": null,
   "metadata": {},
   "outputs": [
    {
     "name": "stdout",
     "output_type": "stream",
     "text": [
      "\n",
      "Sample Audio Durations with Updated Mapping:\n",
      "   Dialogue_ID  Utterance_ID     Audio_File  Audio_Duration\n",
      "0            0             0  dia0_utt0.wav        5.674667\n",
      "1            0             1  dia0_utt1.wav        1.472000\n",
      "3            0             3  dia0_utt3.wav        2.773333\n",
      "4            0             4  dia0_utt4.wav        6.485333\n",
      "5            0             5  dia0_utt5.wav        3.221333\n"
     ]
    }
   ],
   "source": [
    "# List all available audio files in the directory\n",
    "available_files = set(os.listdir(audio_dir))\n",
    "\n",
    "# Filter dataset to include only rows with matching audio files\n",
    "meld_data = meld_data[meld_data['Audio_File'].isin(available_files)]\n",
    "\n",
    "# Function to extract audio duration\n",
    "def get_audio_duration(file_name):\n",
    "    file_path = os.path.join(audio_dir, file_name)\n",
    "    try:\n",
    "        y, sr = librosa.load(file_path, sr=None)  \n",
    "        return librosa.get_duration(y=y, sr=sr)  \n",
    "    except Exception as e:\n",
    "        print(f\"Error processing {file_name}: {e}\")\n",
    "        return None\n",
    "\n",
    "# Update file mapping to include Utterance_ID\n",
    "meld_data['Audio_File'] = meld_data.apply(lambda row: f\"dia{row['Dialogue_ID']}_utt{row['Utterance_ID']}.wav\", axis=1)\n",
    "\n",
    "# Reapply audio duration extraction\n",
    "meld_data['Audio_Duration'] = meld_data['Audio_File'].apply(get_audio_duration)\n",
    "\n",
    "# Display sample audio durations\n",
    "print(\"\\nSample Audio Durations with Updated Mapping:\")\n",
    "print(meld_data[['Dialogue_ID', 'Utterance_ID', 'Audio_File', 'Audio_Duration']].head())"
   ]
  },
  {
   "cell_type": "code",
   "execution_count": 20,
   "metadata": {},
   "outputs": [
    {
     "name": "stdout",
     "output_type": "stream",
     "text": [
      "\n",
      "Sample MFCC Features:\n",
      "   Dialogue_ID  Utterance_ID     Audio_File  \\\n",
      "0            0             0  dia0_utt0.wav   \n",
      "1            0             1  dia0_utt1.wav   \n",
      "3            0             3  dia0_utt3.wav   \n",
      "4            0             4  dia0_utt4.wav   \n",
      "5            0             5  dia0_utt5.wav   \n",
      "\n",
      "                                               MFCCs  \n",
      "0  [-200.79408264160156, 65.95580291748047, 3.057...  \n",
      "1  [-223.96542358398438, 76.85250091552734, 15.32...  \n",
      "3  [-244.4572296142578, 57.01353073120117, 9.1649...  \n",
      "4  [-185.72329711914062, 87.59825897216797, -46.9...  \n",
      "5  [-251.8509063720703, 71.70755767822266, 3.9830...  \n"
     ]
    }
   ],
   "source": [
    "# Function to extract MFCCs from audio\n",
    "def get_mfcc_features(file_name):\n",
    "    file_path = os.path.join(audio_dir, file_name)\n",
    "    if not os.path.exists(file_path):  # Handle missing files\n",
    "        return None\n",
    "    try:\n",
    "        y, sr = librosa.load(file_path, sr=16000)  # Load audio at 16kHz\n",
    "        mfccs = librosa.feature.mfcc(y=y, sr=sr, n_mfcc=13)  # Extract 13 MFCCs\n",
    "        return mfccs.mean(axis=1).tolist()  # Return mean of each MFCC dimension\n",
    "    except Exception as e:\n",
    "        print(f\"Error processing {file_name}: {e}\")\n",
    "        return None\n",
    "\n",
    "# Apply MFCC extraction\n",
    "meld_data['MFCCs'] = meld_data['Audio_File'].apply(get_mfcc_features)\n",
    "\n",
    "# Display sample MFCC features\n",
    "print(\"\\nSample MFCC Features:\")\n",
    "print(meld_data[['Dialogue_ID', 'Utterance_ID', 'Audio_File', 'MFCCs']].head())"
   ]
  },
  {
   "cell_type": "code",
   "execution_count": 22,
   "metadata": {},
   "outputs": [
    {
     "name": "stdout",
     "output_type": "stream",
     "text": [
      "Processed dataset saved to datasets\\processed\\meld_features.csv!\n"
     ]
    }
   ],
   "source": [
    "# Drop unnecessary columns if needed\n",
    "final_features = meld_data[['Dialogue_ID', 'Utterance_ID', 'Emotion', 'Word_Count', 'Char_Count', \n",
    "                            'Sentiment_Polarity', 'Audio_Duration', 'MFCCs']]\n",
    "\n",
    "# Save the dataset to a CSV file\n",
    "processed_path = r'datasets\\processed\\meld_features.csv'\n",
    "final_features.to_csv(processed_path, index=False)\n",
    "\n",
    "print(f\"Processed dataset saved to {processed_path}!\")"
   ]
  },
  {
   "cell_type": "code",
   "execution_count": 23,
   "metadata": {},
   "outputs": [
    {
     "name": "stdout",
     "output_type": "stream",
     "text": [
      "Training set size: 8287\n",
      "Validation set size: 1776\n",
      "Test set size: 1776\n"
     ]
    }
   ],
   "source": [
    "from sklearn.model_selection import train_test_split\n",
    "\n",
    "# Split the data into training, validation, and test sets\n",
    "train_data, temp_data = train_test_split(final_features, test_size=0.3, random_state=42, stratify=final_features['Emotion'])\n",
    "val_data, test_data = train_test_split(temp_data, test_size=0.5, random_state=42, stratify=temp_data['Emotion'])\n",
    "\n",
    "# Display the sizes of the splits\n",
    "print(f\"Training set size: {len(train_data)}\")\n",
    "print(f\"Validation set size: {len(val_data)}\")\n",
    "print(f\"Test set size: {len(test_data)}\")"
   ]
  }
 ],
 "metadata": {
  "kernelspec": {
   "display_name": "Python 3",
   "language": "python",
   "name": "python3"
  },
  "language_info": {
   "codemirror_mode": {
    "name": "ipython",
    "version": 3
   },
   "file_extension": ".py",
   "mimetype": "text/x-python",
   "name": "python",
   "nbconvert_exporter": "python",
   "pygments_lexer": "ipython3",
   "version": "3.12.0"
  }
 },
 "nbformat": 4,
 "nbformat_minor": 2
}
