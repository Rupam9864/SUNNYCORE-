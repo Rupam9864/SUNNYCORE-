{
 "cells": [
  {
   "cell_type": "code",
   "execution_count": 1,
   "metadata": {},
   "outputs": [
    {
     "name": "stdout",
     "output_type": "stream",
     "text": [
      "Dataset loaded successfully!\n",
      "Minority classes: ['anger', 'surprise', 'sadness', 'disgust', 'fear']\n"
     ]
    },
    {
     "name": "stderr",
     "output_type": "stream",
     "text": [
      "[nltk_data] Downloading package wordnet to\n",
      "[nltk_data]     C:\\Users\\rajt8\\AppData\\Roaming\\nltk_data...\n",
      "[nltk_data]   Package wordnet is already up-to-date!\n",
      "[nltk_data] Downloading package punkt to\n",
      "[nltk_data]     C:\\Users\\rajt8\\AppData\\Roaming\\nltk_data...\n",
      "[nltk_data]   Package punkt is already up-to-date!\n",
      "[nltk_data] Downloading package stopwords to\n",
      "[nltk_data]     C:\\Users\\rajt8\\AppData\\Roaming\\nltk_data...\n",
      "[nltk_data]   Package stopwords is already up-to-date!\n"
     ]
    }
   ],
   "source": [
    "# Data Augmentation Notebook\n",
    "\n",
    "# Import Required Libraries\n",
    "import os\n",
    "import pandas as pd\n",
    "import numpy as np\n",
    "from nltk.corpus import wordnet\n",
    "import random\n",
    "import librosa\n",
    "\n",
    "# Ensure NLTK resources are downloaded\n",
    "import nltk\n",
    "nltk.download('wordnet')\n",
    "nltk.download('punkt')\n",
    "nltk.download('stopwords')\n",
    "\n",
    "# Paths to Data\n",
    "TEXT_DATA_PATH = 'datasets/processed/meld_features_updated.csv'\n",
    "AUDIO_DATA_PATH = 'datasets/raw/MELD/train/audio'\n",
    "\n",
    "# Load Data\n",
    "data = pd.read_csv(TEXT_DATA_PATH)\n",
    "print(\"Dataset loaded successfully!\")\n",
    "\n",
    "# Identify Minority Classes\n",
    "emotion_counts = data['Emotion'].value_counts()\n",
    "minority_classes = emotion_counts[emotion_counts < emotion_counts.mean()].index.tolist()\n",
    "print(\"Minority classes:\", minority_classes)"
   ]
  },
  {
   "cell_type": "code",
   "execution_count": 9,
   "metadata": {},
   "outputs": [
    {
     "name": "stdout",
     "output_type": "stream",
     "text": [
      "Synonym replacement augmentation completed and saved!\n"
     ]
    }
   ],
   "source": [
    "# Synonym Replacement Function\n",
    "def synonym_replacement(sentence, n=2):\n",
    "    \"\"\"\n",
    "    Replace 'n' random words in a sentence with their synonyms.\n",
    "    \"\"\"\n",
    "    words = sentence.split()\n",
    "    new_words = words.copy()\n",
    "    random.shuffle(new_words)\n",
    "    \n",
    "    for word in new_words:\n",
    "        synonyms = wordnet.synsets(word)\n",
    "        if synonyms:\n",
    "            synonym = synonyms[0].lemmas()[0].name()\n",
    "            new_words[new_words.index(word)] = synonym\n",
    "        n -= 1\n",
    "        if n == 0:\n",
    "            break\n",
    "    return ' '.join(new_words)\n",
    "\n",
    "# Apply Synonym Replacement to Minority Classes\n",
    "augmented_text = []\n",
    "augmented_labels = []\n",
    "for emotion in minority_classes:\n",
    "    samples = data[data['Emotion'] == emotion]['Utterance']\n",
    "    for text in samples:\n",
    "        augmented_text.append(synonym_replacement(text))\n",
    "        augmented_labels.append(emotion)\n",
    "\n",
    "# Create DataFrame for Augmented Text\n",
    "augmented_text_df = pd.DataFrame({'Utterance': augmented_text, 'Emotion': augmented_labels})\n",
    "\n",
    "# Save Augmented Text Data\n",
    "augmented_text_df.to_csv('datasets/processed/augmented_text_synonym.csv', index=False)\n",
    "print(\"Synonym replacement augmentation completed and saved!\")"
   ]
  },
  {
   "cell_type": "code",
   "execution_count": 14,
   "metadata": {},
   "outputs": [
    {
     "name": "stdout",
     "output_type": "stream",
     "text": [
      "Random insertion augmentation completed!\n"
     ]
    }
   ],
   "source": [
    "def random_insertion(sentence, n=2):\n",
    "    words = sentence.split()\n",
    "    for _ in range(n):\n",
    "        new_word = synonym_replacement(random.choice(words), n=1)\n",
    "        position = random.randint(0, len(words))\n",
    "        words.insert(position, new_word)\n",
    "    return ' '.join(words)\n",
    "\n",
    "# Apply Random Insertion\n",
    "augmented_text = []\n",
    "augmented_labels = []\n",
    "\n",
    "for emotion in minority_classes:\n",
    "    samples = data[data['Emotion'] == emotion]['Utterance']\n",
    "    for text in samples:\n",
    "        augmented_text.append(random_insertion(text))\n",
    "        augmented_labels.append(emotion)\n",
    "\n",
    "# Create DataFrame\n",
    "augmented_text_df = pd.DataFrame({'Utterance': augmented_text, 'Emotion': augmented_labels})\n",
    "augmented_text_df.to_csv('datasets/processed/augmented_text_insertion.csv', index=False)\n",
    "print(\"Random insertion augmentation completed!\")"
   ]
  },
  {
   "cell_type": "code",
   "execution_count": 15,
   "metadata": {},
   "outputs": [
    {
     "name": "stdout",
     "output_type": "stream",
     "text": [
      "Noise addition augmentation completed!\n"
     ]
    }
   ],
   "source": [
    "def add_noise(sentence, noise_level=0.1):\n",
    "    words = sentence.split()\n",
    "    n_noisy = int(len(words) * noise_level)\n",
    "    for _ in range(n_noisy):\n",
    "        idx = random.randint(0, len(words) - 1)\n",
    "        words[idx] = ''.join(random.sample(words[idx], len(words[idx])))  \n",
    "    return ' '.join(words)\n",
    "\n",
    "# Apply Noise Addition\n",
    "augmented_text = []\n",
    "augmented_labels = []\n",
    "\n",
    "for emotion in minority_classes:\n",
    "    samples = data[data['Emotion'] == emotion]['Utterance']\n",
    "    for text in samples:\n",
    "        augmented_text.append(add_noise(text))\n",
    "        augmented_labels.append(emotion)\n",
    "\n",
    "# Create DataFrame\n",
    "augmented_text_df = pd.DataFrame({'Utterance': augmented_text, 'Emotion': augmented_labels})\n",
    "augmented_text_df.to_csv('datasets/processed/augmented_text_noise.csv', index=False)\n",
    "print(\"Noise addition augmentation completed!\")"
   ]
  },
  {
   "cell_type": "code",
   "execution_count": null,
   "metadata": {},
   "outputs": [],
   "source": []
  }
 ],
 "metadata": {
  "kernelspec": {
   "display_name": "Python 3",
   "language": "python",
   "name": "python3"
  },
  "language_info": {
   "codemirror_mode": {
    "name": "ipython",
    "version": 3
   },
   "file_extension": ".py",
   "mimetype": "text/x-python",
   "name": "python",
   "nbconvert_exporter": "python",
   "pygments_lexer": "ipython3",
   "version": "3.12.0"
  }
 },
 "nbformat": 4,
 "nbformat_minor": 2
}
