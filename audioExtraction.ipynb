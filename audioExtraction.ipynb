{
 "cells": [
  {
   "cell_type": "code",
   "execution_count": 2,
   "metadata": {},
   "outputs": [],
   "source": [
    "import os\n",
    "import re\n",
    "import regex\n",
    "import datetime\n",
    "import subprocess\n",
    "import sys\n",
    "import pandas as pd\n",
    "import numpy as np\n",
    "import ffmpeg\n",
    "from matplotlib import pyplot as plt"
   ]
  },
  {
   "cell_type": "code",
   "execution_count": 6,
   "metadata": {},
   "outputs": [],
   "source": [
    "vediofilepath = 'D:/data/raw/MELD/train/train_splits/'  #put your vedio file path here\n",
    "audiofilepath = 'D:/data/proceeded/audio/train2/'       #Put your target folder path here\n",
    "audiofileformat = '.wav'                                #put the exp of the audio file here"
   ]
  },
  {
   "cell_type": "code",
   "execution_count": 7,
   "metadata": {},
   "outputs": [],
   "source": [
    "def audioExtraction(vediofilepath,audiofilepath,audiofileformat):\n",
    "    vediolist=os.listdir(vediofilepath)\n",
    "    vediolist=pd.DataFrame(vediolist)\n",
    "    vediolist.columns=['Filename']\n",
    "    vediolist=pd.concat([vediolist,pd.DataFrame(columns=['Majorrank','Minorrank'])])\n",
    "\n",
    "    for i in range(len(vediolist)):\n",
    "        text=vediolist.iloc[i,0]\n",
    "        Majorranktext=text.split('_')[0]\n",
    "        Minorranktext=text.split('_')[1]\n",
    "\n",
    "        Majorrankint=regex.findall(r'\\d+',Majorranktext)[0]\n",
    "        Minorrankint=regex.findall(r'\\d+',Minorranktext)[0]\n",
    "\n",
    "        vediolist.loc[i,'Majorrank']=int(Majorrankint)\n",
    "        vediolist.loc[i,'Minorrank']=int(Minorrankint)\n",
    "    \n",
    "    vediolist.sort_values(by=['Majorrank','Minorrank'],inplace=True)\n",
    "    vediolistproceeded=vediolist['Filename'].to_list()\n",
    "\n",
    "    for i in range(len(vediolistproceeded)):\n",
    "        vediofilename=vediolistproceeded[i] #\n",
    "        filename=vediofilename.split('.')[0] #\n",
    "        audiofilename=filename+audiofileformat #\n",
    "        vedioPath=vediofilepath+vediofilename\n",
    "        audioPath=audiofilepath+audiofilename\n",
    "        subprocess.call(['ffmpeg','-y','-i',vedioPath,audioPath],\n",
    "                    stdout=subprocess.DEVNULL,\n",
    "                    stderr=subprocess.STDOUT)\n",
    "        print(str(i)+" of "+str(len(vediolist))+" file has been successfully converted")\n",
    "        \n",
    "    completemessage='task completed'\n",
    "\n",
    "    return completemessage"
   ]
  },
  {
   "cell_type": "code",
   "execution_count": 8,
   "metadata": {},
   "outputs": [
    {
     "data": {
      "text/plain": [
       "'task completed'"
      ]
     },
     "execution_count": 8,
     "metadata": {},
     "output_type": "execute_result"
    }
   ],
   "source": [
    "audioExtraction(vediofilepath,audiofilepath,audiofileformat)"
   ]
  },
  {
   "cell_type": "code",
   "execution_count": null,
   "metadata": {},
   "outputs": [],
   "source": []
  }
 ],
 "metadata": {
  "kernelspec": {
   "display_name": "Python 3",
   "language": "python",
   "name": "python3"
  },
  "language_info": {
   "codemirror_mode": {
    "name": "ipython",
    "version": 3
   },
   "file_extension": ".py",
   "mimetype": "text/x-python",
   "name": "python",
   "nbconvert_exporter": "python",
   "pygments_lexer": "ipython3",
   "version": "3.11.3"
  }
 },
 "nbformat": 4,
 "nbformat_minor": 2
}
